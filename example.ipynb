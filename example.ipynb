{
 "cells": [
  {
   "cell_type": "code",
   "execution_count": 6,
   "metadata": {},
   "outputs": [],
   "source": [
    "from math_go_brrr import brrr\n",
    "from time import time\n",
    "from types import FunctionType"
   ]
  },
  {
   "cell_type": "markdown",
   "metadata": {},
   "source": [
    "## Comparing the Python and LLVM JIT version"
   ]
  },
  {
   "cell_type": "code",
   "execution_count": 7,
   "metadata": {},
   "outputs": [
    {
     "name": "stdout",
     "output_type": "stream",
     "text": [
      "LLVM JIT Compiled | 0.02686166763305664\n",
      "Regular Python    | 0.37555527687072754\n"
     ]
    }
   ],
   "source": [
    "@brrr\n",
    "def foo(a: int) -> int:\n",
    "    b = 0\n",
    "    i = 0\n",
    "    while i < a:\n",
    "        b = b + i\n",
    "        i = i + 1\n",
    "\n",
    "    return b\n",
    "\n",
    "\n",
    "\n",
    "start = time()\n",
    "llvm_out = foo(10_000_000)\n",
    "print(f\"LLVM JIT Compiled |\", time() - start)\n",
    "\n",
    "# foo.original_func is our plain-old Python function\n",
    "assert isinstance(foo.original_func, FunctionType)\n",
    "\n",
    "start = time()\n",
    "python_out = foo.original_func(10_000_000)\n",
    "print(f\"Regular Python    |\", time() - start)"
   ]
  },
  {
   "cell_type": "markdown",
   "metadata": {},
   "source": [
    "## Testing various optimization levels"
   ]
  },
  {
   "cell_type": "code",
   "execution_count": 8,
   "metadata": {},
   "outputs": [
    {
     "name": "stdout",
     "output_type": "stream",
     "text": [
      "LLVM opt = none       | 0.024113893508911133\n",
      "LLVM opt = less       | 0.02508378028869629\n",
      "LLVM opt = default    | 0.0253751277923584\n",
      "LLVM opt = aggressive | 0.02697300910949707\n",
      "Regular Python        | 0.37921977043151855\n"
     ]
    }
   ],
   "source": [
    "def foo(a: int) -> int:\n",
    "    b = 0\n",
    "    i = 0\n",
    "    while i < a:\n",
    "        b = b + i\n",
    "        i = i + 1\n",
    "\n",
    "    return b\n",
    "\n",
    "\n",
    "for lvl in [\"none\", \"less\", \"default\", \"aggressive\"]:\n",
    "    foo_compiled = brrr(optimization=lvl)(foo)\n",
    "\n",
    "    start = time()\n",
    "    llvm_out = foo_compiled(10_000_000)\n",
    "    print(f\"LLVM opt = {lvl:<10} |\", time() - start)\n",
    "\n",
    "start = time()\n",
    "python_out = foo(10_000_000)\n",
    "print(f\"Regular Python        |\", time() - start)"
   ]
  },
  {
   "cell_type": "markdown",
   "metadata": {},
   "source": [
    "## Testing the performance with different input sizes\n",
    "\n",
    "Since the calling of the JIT function jumps through a few more hoops internally and has to convert python types to LLVM types, the JIT version is slower at small input sizes. However, it scales much better than python with larger input sizes."
   ]
  },
  {
   "cell_type": "code",
   "execution_count": 9,
   "metadata": {},
   "outputs": [
    {
     "name": "stdout",
     "output_type": "stream",
     "text": [
      "Count: 1\n",
      "  LLVM JIT Compiled | 0.0000319\n",
      "  Regular Python    | 0.0000031\n",
      "Count: 10\n",
      "  LLVM JIT Compiled | 0.0000088\n",
      "  Regular Python    | 0.0000021\n",
      "Count: 100\n",
      "  LLVM JIT Compiled | 0.0000179\n",
      "  Regular Python    | 0.0000048\n",
      "Count: 10000\n",
      "  LLVM JIT Compiled | 0.0000279\n",
      "  Regular Python    | 0.0003471\n",
      "Count: 1000000\n",
      "  LLVM JIT Compiled | 0.0023050\n",
      "  Regular Python    | 0.0375988\n"
     ]
    }
   ],
   "source": [
    "@brrr\n",
    "def foo(a: int) -> int:\n",
    "    b = 0\n",
    "    i = 0\n",
    "    while i < a:\n",
    "        b = b + i\n",
    "        i = i + 1\n",
    "\n",
    "    return b\n",
    "\n",
    "# the first run does very badly,\n",
    "# and I assume because of the JIT it might\n",
    "# only compile when it's called the first time\n",
    "foo(1)\n",
    "\n",
    "for count in [1, 10, 100, 10_000, 1_000_000]:\n",
    "  print(f\"Count: {count}\")\n",
    "  start = time()\n",
    "  llvm_out = foo(count)\n",
    "  print(f\"  LLVM JIT Compiled | {time() - start:.7f}\")\n",
    "\n",
    "  # foo.original_func is our plain-old Python function\n",
    "  assert isinstance(foo.original_func, FunctionType)\n",
    "\n",
    "  start = time()\n",
    "  python_out = foo.original_func(count)\n",
    "  print(f\"  Regular Python    | {time() - start:.7f}\")"
   ]
  },
  {
   "cell_type": "code",
   "execution_count": 10,
   "metadata": {},
   "outputs": [
    {
     "name": "stdout",
     "output_type": "stream",
     "text": [
      "LLVM JIT Compiled | 0.024518966674804688\n",
      "Regular Python    | 0.37351512908935547\n",
      "Rust Compiled     | 0.012889862060546875\n"
     ]
    }
   ],
   "source": [
    "@brrr\n",
    "def foo(a: int) -> int:\n",
    "    b = 0\n",
    "    i = 0\n",
    "    while i < a:\n",
    "        b = b + i\n",
    "        i = i + 1\n",
    "\n",
    "    return b\n",
    "\n",
    "from math_go_brrr import foo as foo_rust\n",
    "\n",
    "\n",
    "start = time()\n",
    "llvm_out = foo(10_000_000)\n",
    "print(f\"LLVM JIT Compiled |\", time() - start)\n",
    "\n",
    "# foo.original_func is our plain-old Python function\n",
    "assert isinstance(foo.original_func, FunctionType)\n",
    "\n",
    "start = time()\n",
    "python_out = foo.original_func(10_000_000)\n",
    "print(f\"Regular Python    |\", time() - start)\n",
    "\n",
    "start = time()\n",
    "rust_out = foo_rust(10_000_000)\n",
    "print(f\"Rust Compiled     |\", time() - start)\n"
   ]
  },
  {
   "cell_type": "markdown",
   "metadata": {},
   "source": [
    "So it looks like, while the JIT version is 10x faster than python, writing it in Rust instead would save another 2x."
   ]
  }
 ],
 "metadata": {
  "kernelspec": {
   "display_name": "init",
   "language": "python",
   "name": "python3"
  },
  "language_info": {
   "codemirror_mode": {
    "name": "ipython",
    "version": 3
   },
   "file_extension": ".py",
   "mimetype": "text/x-python",
   "name": "python",
   "nbconvert_exporter": "python",
   "pygments_lexer": "ipython3",
   "version": "3.12.3"
  }
 },
 "nbformat": 4,
 "nbformat_minor": 2
}
