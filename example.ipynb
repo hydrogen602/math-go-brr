{
 "cells": [
  {
   "cell_type": "code",
   "execution_count": 1,
   "metadata": {},
   "outputs": [],
   "source": [
    "from math_go_brrr import brrr\n",
    "from time import time\n",
    "from types import FunctionType"
   ]
  },
  {
   "cell_type": "markdown",
   "metadata": {},
   "source": [
    "## Comparing the Python and LLVM JIT version"
   ]
  },
  {
   "cell_type": "code",
   "execution_count": 4,
   "metadata": {},
   "outputs": [
    {
     "name": "stdout",
     "output_type": "stream",
     "text": [
      "LLVM JIT Compiled | 0.026205062866210938\n",
      "Regular Python    | 0.3830869197845459\n"
     ]
    }
   ],
   "source": [
    "@brrr\n",
    "def foo(a: int) -> int:\n",
    "    b = 0\n",
    "    i = 0\n",
    "    while i < a:\n",
    "        b = b + i\n",
    "        i = i + 1\n",
    "\n",
    "    return b\n",
    "\n",
    "\n",
    "start = time()\n",
    "llvm_out = foo(10_000_000)\n",
    "print(f\"LLVM JIT Compiled |\", time() - start)\n",
    "\n",
    "# foo.original_func is our plain-old Python function\n",
    "assert isinstance(foo.original_func, FunctionType)\n",
    "\n",
    "start = time()\n",
    "python_out = foo.original_func(10_000_000)\n",
    "print(f\"Regular Python    |\", time() - start)"
   ]
  },
  {
   "cell_type": "markdown",
   "metadata": {},
   "source": [
    "## Testing various optimization levels"
   ]
  },
  {
   "cell_type": "code",
   "execution_count": 7,
   "metadata": {},
   "outputs": [
    {
     "name": "stdout",
     "output_type": "stream",
     "text": [
      "LLVM opt = none       | 0.023725032806396484\n",
      "LLVM opt = less       | 0.025578022003173828\n",
      "LLVM opt = default    | 0.02552175521850586\n",
      "LLVM opt = aggressive | 0.0243680477142334\n",
      "Regular Python        | 0.3858451843261719\n"
     ]
    }
   ],
   "source": [
    "def foo(a: int) -> int:\n",
    "    b = 0\n",
    "    i = 0\n",
    "    while i < a:\n",
    "        b = b + i\n",
    "        i = i + 1\n",
    "\n",
    "    return b\n",
    "\n",
    "\n",
    "for lvl in [\"none\", \"less\", \"default\", \"aggressive\"]:\n",
    "    foo_compiled = brrr(optimization=lvl)(foo)\n",
    "\n",
    "    start = time()\n",
    "    llvm_out = foo_compiled(10_000_000)\n",
    "    print(f\"LLVM opt = {lvl:<10} |\", time() - start)\n",
    "\n",
    "start = time()\n",
    "python_out = foo(10_000_000)\n",
    "print(f\"Regular Python        |\", time() - start)"
   ]
  }
 ],
 "metadata": {
  "kernelspec": {
   "display_name": "init",
   "language": "python",
   "name": "python3"
  },
  "language_info": {
   "codemirror_mode": {
    "name": "ipython",
    "version": 3
   },
   "file_extension": ".py",
   "mimetype": "text/x-python",
   "name": "python",
   "nbconvert_exporter": "python",
   "pygments_lexer": "ipython3",
   "version": "3.12.3"
  }
 },
 "nbformat": 4,
 "nbformat_minor": 2
}
